{
 "cells": [
  {
   "cell_type": "markdown",
   "id": "092f4b4e-b916-46c6-bdbb-5ecd8e6cd6ba",
   "metadata": {},
   "source": [
    "# Internal Assignment\n",
    "* Read the Microsoft data using pandas data reader\n",
    "* Getting maximum price of Share of the year from last 5 year\n",
    "* The Day on which the price of the stock was highest for last 5 years\n",
    "* The Day on which the price of the stock was lowest\n",
    "* Check the news for those dates why the price was high or low\n"
   ]
  },
  {
   "cell_type": "code",
   "execution_count": 1,
   "id": "b2d66558-8b09-4cbe-94fc-0c4fd20d6d5c",
   "metadata": {
    "tags": []
   },
   "outputs": [
    {
     "name": "stdout",
     "output_type": "stream",
     "text": [
      "Requirement already satisfied: pandas-datareader in c:\\users\\hp\\anaconda3\\lib\\site-packages (0.10.0)\n",
      "Requirement already satisfied: lxml in c:\\users\\hp\\anaconda3\\lib\\site-packages (from pandas-datareader) (4.9.3)\n",
      "Requirement already satisfied: pandas>=0.23 in c:\\users\\hp\\anaconda3\\lib\\site-packages (from pandas-datareader) (2.0.3)\n",
      "Requirement already satisfied: requests>=2.19.0 in c:\\users\\hp\\anaconda3\\lib\\site-packages (from pandas-datareader) (2.31.0)\n",
      "Requirement already satisfied: python-dateutil>=2.8.2 in c:\\users\\hp\\anaconda3\\lib\\site-packages (from pandas>=0.23->pandas-datareader) (2.8.2)\n",
      "Requirement already satisfied: pytz>=2020.1 in c:\\users\\hp\\anaconda3\\lib\\site-packages (from pandas>=0.23->pandas-datareader) (2023.3.post1)\n",
      "Requirement already satisfied: tzdata>=2022.1 in c:\\users\\hp\\anaconda3\\lib\\site-packages (from pandas>=0.23->pandas-datareader) (2023.3)\n",
      "Requirement already satisfied: numpy>=1.21.0 in c:\\users\\hp\\anaconda3\\lib\\site-packages (from pandas>=0.23->pandas-datareader) (1.24.3)\n",
      "Requirement already satisfied: charset-normalizer<4,>=2 in c:\\users\\hp\\anaconda3\\lib\\site-packages (from requests>=2.19.0->pandas-datareader) (2.0.4)\n",
      "Requirement already satisfied: idna<4,>=2.5 in c:\\users\\hp\\anaconda3\\lib\\site-packages (from requests>=2.19.0->pandas-datareader) (3.4)\n",
      "Requirement already satisfied: urllib3<3,>=1.21.1 in c:\\users\\hp\\anaconda3\\lib\\site-packages (from requests>=2.19.0->pandas-datareader) (1.26.16)\n",
      "Requirement already satisfied: certifi>=2017.4.17 in c:\\users\\hp\\anaconda3\\lib\\site-packages (from requests>=2.19.0->pandas-datareader) (2023.7.22)\n",
      "Requirement already satisfied: six>=1.5 in c:\\users\\hp\\anaconda3\\lib\\site-packages (from python-dateutil>=2.8.2->pandas>=0.23->pandas-datareader) (1.16.0)\n",
      "Requirement already satisfied: yfinance in c:\\users\\hp\\anaconda3\\lib\\site-packages (0.2.33)\n",
      "Requirement already satisfied: pandas>=1.3.0 in c:\\users\\hp\\anaconda3\\lib\\site-packages (from yfinance) (2.0.3)\n",
      "Requirement already satisfied: numpy>=1.16.5 in c:\\users\\hp\\anaconda3\\lib\\site-packages (from yfinance) (1.24.3)\n",
      "Requirement already satisfied: requests>=2.31 in c:\\users\\hp\\anaconda3\\lib\\site-packages (from yfinance) (2.31.0)\n",
      "Requirement already satisfied: multitasking>=0.0.7 in c:\\users\\hp\\anaconda3\\lib\\site-packages (from yfinance) (0.0.11)\n",
      "Requirement already satisfied: lxml>=4.9.1 in c:\\users\\hp\\anaconda3\\lib\\site-packages (from yfinance) (4.9.3)\n",
      "Requirement already satisfied: appdirs>=1.4.4 in c:\\users\\hp\\anaconda3\\lib\\site-packages (from yfinance) (1.4.4)\n",
      "Requirement already satisfied: pytz>=2022.5 in c:\\users\\hp\\anaconda3\\lib\\site-packages (from yfinance) (2023.3.post1)\n",
      "Requirement already satisfied: frozendict>=2.3.4 in c:\\users\\hp\\anaconda3\\lib\\site-packages (from yfinance) (2.3.10)\n",
      "Requirement already satisfied: peewee>=3.16.2 in c:\\users\\hp\\anaconda3\\lib\\site-packages (from yfinance) (3.17.0)\n",
      "Requirement already satisfied: beautifulsoup4>=4.11.1 in c:\\users\\hp\\anaconda3\\lib\\site-packages (from yfinance) (4.12.2)\n",
      "Requirement already satisfied: html5lib>=1.1 in c:\\users\\hp\\anaconda3\\lib\\site-packages (from yfinance) (1.1)\n",
      "Requirement already satisfied: soupsieve>1.2 in c:\\users\\hp\\anaconda3\\lib\\site-packages (from beautifulsoup4>=4.11.1->yfinance) (2.4)\n",
      "Requirement already satisfied: six>=1.9 in c:\\users\\hp\\anaconda3\\lib\\site-packages (from html5lib>=1.1->yfinance) (1.16.0)\n",
      "Requirement already satisfied: webencodings in c:\\users\\hp\\anaconda3\\lib\\site-packages (from html5lib>=1.1->yfinance) (0.5.1)\n",
      "Requirement already satisfied: python-dateutil>=2.8.2 in c:\\users\\hp\\anaconda3\\lib\\site-packages (from pandas>=1.3.0->yfinance) (2.8.2)\n",
      "Requirement already satisfied: tzdata>=2022.1 in c:\\users\\hp\\anaconda3\\lib\\site-packages (from pandas>=1.3.0->yfinance) (2023.3)\n",
      "Requirement already satisfied: charset-normalizer<4,>=2 in c:\\users\\hp\\anaconda3\\lib\\site-packages (from requests>=2.31->yfinance) (2.0.4)\n",
      "Requirement already satisfied: idna<4,>=2.5 in c:\\users\\hp\\anaconda3\\lib\\site-packages (from requests>=2.31->yfinance) (3.4)\n",
      "Requirement already satisfied: urllib3<3,>=1.21.1 in c:\\users\\hp\\anaconda3\\lib\\site-packages (from requests>=2.31->yfinance) (1.26.16)\n",
      "Requirement already satisfied: certifi>=2017.4.17 in c:\\users\\hp\\anaconda3\\lib\\site-packages (from requests>=2.31->yfinance) (2023.7.22)\n"
     ]
    }
   ],
   "source": [
    "## importing necessary libraries\n",
    "\n",
    "!pip install pandas-datareader\n",
    "!pip install yfinance\n",
    "\n",
    "import pandas as pd\n",
    "import pandas_datareader as pdr\n",
    "import yfinance as yf"
   ]
  },
  {
   "cell_type": "code",
   "execution_count": 2,
   "id": "54cf748f-8367-4696-9211-13764da12c52",
   "metadata": {
    "tags": []
   },
   "outputs": [],
   "source": [
    "data=yf.Ticker('MSFT')"
   ]
  },
  {
   "cell_type": "code",
   "execution_count": 3,
   "id": "31ae93b7-d4f8-4710-bf6f-e4f409e47ea6",
   "metadata": {
    "tags": []
   },
   "outputs": [],
   "source": [
    "df=data.history(period='60mo')"
   ]
  },
  {
   "cell_type": "code",
   "execution_count": 4,
   "id": "51770241-d49a-4302-ab00-8a1a9b64a6a4",
   "metadata": {
    "tags": []
   },
   "outputs": [
    {
     "data": {
      "text/plain": [
       "{'address1': 'One Microsoft Way',\n",
       " 'city': 'Redmond',\n",
       " 'state': 'WA',\n",
       " 'zip': '98052-6399',\n",
       " 'country': 'United States',\n",
       " 'phone': '425 882 8080',\n",
       " 'website': 'https://www.microsoft.com',\n",
       " 'industry': 'Software - Infrastructure',\n",
       " 'industryKey': 'software-infrastructure',\n",
       " 'industryDisp': 'Software - Infrastructure',\n",
       " 'sector': 'Technology',\n",
       " 'sectorKey': 'technology',\n",
       " 'sectorDisp': 'Technology',\n",
       " 'longBusinessSummary': 'Microsoft Corporation develops and supports software, services, devices and solutions worldwide. The Productivity and Business Processes segment offers office, exchange, SharePoint, Microsoft Teams, office 365 Security and Compliance, Microsoft viva, and Microsoft 365 copilot; and office consumer services, such as Microsoft 365 consumer subscriptions, Office licensed on-premises, and other office services. This segment also provides LinkedIn; and dynamics business solutions, including Dynamics 365, a set of intelligent, cloud-based applications across ERP, CRM, power apps, and power automate; and on-premises ERP and CRM applications. The Intelligent Cloud segment offers server products and cloud services, such as azure and other cloud services; SQL and windows server, visual studio, system center, and related client access licenses, as well as nuance and GitHub; and enterprise services including enterprise support services, industry solutions, and nuance professional services. The More Personal Computing segment offers Windows, including windows OEM licensing and other non-volume licensing of the Windows operating system; Windows commercial comprising volume licensing of the Windows operating system, windows cloud services, and other Windows commercial offerings; patent licensing; and windows Internet of Things; and devices, such as surface, HoloLens, and PC accessories. Additionally, this segment provides gaming, which includes Xbox hardware and content, and first- and third-party content; Xbox game pass and other subscriptions, cloud gaming, advertising, third-party disc royalties, and other cloud services; and search and news advertising, which includes Bing, Microsoft News and Edge, and third-party affiliates. The company sells its products through OEMs, distributors, and resellers; and directly through digital marketplaces, online, and retail stores. The company was founded in 1975 and is headquartered in Redmond, Washington.',\n",
       " 'fullTimeEmployees': 221000,\n",
       " 'companyOfficers': [{'maxAge': 1,\n",
       "   'name': 'Mr. Satya  Nadella',\n",
       "   'age': 55,\n",
       "   'title': 'Chairman & CEO',\n",
       "   'yearBorn': 1967,\n",
       "   'fiscalYear': 2023,\n",
       "   'totalPay': 9276400,\n",
       "   'exercisedValue': 0,\n",
       "   'unexercisedValue': 0},\n",
       "  {'maxAge': 1,\n",
       "   'name': 'Mr. Bradford L. Smith LCA',\n",
       "   'age': 63,\n",
       "   'title': 'President & Vice Chairman',\n",
       "   'yearBorn': 1959,\n",
       "   'fiscalYear': 2023,\n",
       "   'totalPay': 3591277,\n",
       "   'exercisedValue': 0,\n",
       "   'unexercisedValue': 0},\n",
       "  {'maxAge': 1,\n",
       "   'name': 'Ms. Amy E. Hood',\n",
       "   'age': 50,\n",
       "   'title': 'Executive VP & CFO',\n",
       "   'yearBorn': 1972,\n",
       "   'fiscalYear': 2023,\n",
       "   'totalPay': 3452196,\n",
       "   'exercisedValue': 0,\n",
       "   'unexercisedValue': 0},\n",
       "  {'maxAge': 1,\n",
       "   'name': 'Mr. Judson B. Althoff',\n",
       "   'age': 49,\n",
       "   'title': 'Executive VP & Chief Commercial Officer',\n",
       "   'yearBorn': 1973,\n",
       "   'fiscalYear': 2023,\n",
       "   'totalPay': 3355797,\n",
       "   'exercisedValue': 0,\n",
       "   'unexercisedValue': 0},\n",
       "  {'maxAge': 1,\n",
       "   'name': 'Mr. Christopher David Young',\n",
       "   'age': 50,\n",
       "   'title': 'Executive Vice President of Business Development, Strategy & Ventures',\n",
       "   'yearBorn': 1972,\n",
       "   'fiscalYear': 2023,\n",
       "   'totalPay': 2460507,\n",
       "   'exercisedValue': 0,\n",
       "   'unexercisedValue': 0},\n",
       "  {'maxAge': 1,\n",
       "   'name': 'Ms. Alice L. Jolla',\n",
       "   'age': 55,\n",
       "   'title': 'Corporate VP & Chief Accounting Officer',\n",
       "   'yearBorn': 1967,\n",
       "   'fiscalYear': 2023,\n",
       "   'exercisedValue': 0,\n",
       "   'unexercisedValue': 0},\n",
       "  {'maxAge': 1,\n",
       "   'name': 'Mr. James Kevin Scott',\n",
       "   'age': 50,\n",
       "   'title': 'Executive VP of AI & CTO',\n",
       "   'yearBorn': 1972,\n",
       "   'fiscalYear': 2023,\n",
       "   'exercisedValue': 0,\n",
       "   'unexercisedValue': 0},\n",
       "  {'maxAge': 1,\n",
       "   'name': 'Brett  Iversen',\n",
       "   'title': 'Vice President of Investor Relations',\n",
       "   'fiscalYear': 2023,\n",
       "   'exercisedValue': 0,\n",
       "   'unexercisedValue': 0},\n",
       "  {'maxAge': 1,\n",
       "   'name': 'Mr. Hossein  Nowbar',\n",
       "   'title': 'Chief Legal Officer',\n",
       "   'fiscalYear': 2023,\n",
       "   'exercisedValue': 0,\n",
       "   'unexercisedValue': 0},\n",
       "  {'maxAge': 1,\n",
       "   'name': 'Mr. Frank X. Shaw',\n",
       "   'title': 'Chief Communications Officer',\n",
       "   'fiscalYear': 2023,\n",
       "   'exercisedValue': 0,\n",
       "   'unexercisedValue': 0}],\n",
       " 'auditRisk': 6,\n",
       " 'boardRisk': 4,\n",
       " 'compensationRisk': 2,\n",
       " 'shareHolderRightsRisk': 2,\n",
       " 'overallRisk': 2,\n",
       " 'governanceEpochDate': 1701388800,\n",
       " 'compensationAsOfEpochDate': 1703980800,\n",
       " 'maxAge': 86400,\n",
       " 'priceHint': 2,\n",
       " 'previousClose': 370.62,\n",
       " 'open': 372.56,\n",
       " 'dayLow': 370.82,\n",
       " 'dayHigh': 374.405,\n",
       " 'regularMarketPreviousClose': 370.62,\n",
       " 'regularMarketOpen': 372.56,\n",
       " 'regularMarketDayLow': 370.82,\n",
       " 'regularMarketDayHigh': 374.405,\n",
       " 'dividendRate': 3.0,\n",
       " 'dividendYield': 0.0081,\n",
       " 'exDividendDate': 1707868800,\n",
       " 'payoutRatio': 0.2636,\n",
       " 'fiveYearAvgDividendYield': 1.01,\n",
       " 'beta': 0.897,\n",
       " 'trailingPE': 36.070873,\n",
       " 'forwardPE': 28.689575,\n",
       " 'volume': 4601893,\n",
       " 'regularMarketVolume': 4601893,\n",
       " 'averageVolume': 26350701,\n",
       " 'averageVolume10days': 31716060,\n",
       " 'averageDailyVolume10Day': 31716060,\n",
       " 'bid': 372.02,\n",
       " 'ask': 372.28,\n",
       " 'bidSize': 1000,\n",
       " 'askSize': 1100,\n",
       " 'marketCap': 2761307455488,\n",
       " 'fiftyTwoWeekLow': 219.35,\n",
       " 'fiftyTwoWeekHigh': 384.3,\n",
       " 'priceToSalesTrailing12Months': 12.6485615,\n",
       " 'fiftyDayAverage': 358.329,\n",
       " 'twoHundredDayAverage': 326.4801,\n",
       " 'trailingAnnualDividendRate': 2.79,\n",
       " 'trailingAnnualDividendYield': 0.007527926,\n",
       " 'currency': 'USD',\n",
       " 'enterpriseValue': 2716281077760,\n",
       " 'profitMargins': 0.35314998,\n",
       " 'floatShares': 7425796261,\n",
       " 'sharesOutstanding': 7432260096,\n",
       " 'sharesShort': 49279547,\n",
       " 'sharesShortPriorMonth': 39562050,\n",
       " 'sharesShortPreviousMonthDate': 1698710400,\n",
       " 'dateShortInterest': 1701302400,\n",
       " 'sharesPercentSharesOut': 0.0066000004,\n",
       " 'heldPercentInsiders': 0.00055,\n",
       " 'heldPercentInstitutions': 0.73207,\n",
       " 'shortRatio': 1.87,\n",
       " 'shortPercentOfFloat': 0.0066000004,\n",
       " 'impliedSharesOutstanding': 7432260096,\n",
       " 'bookValue': 29.702,\n",
       " 'priceToBook': 12.508585,\n",
       " 'lastFiscalYearEnd': 1688083200,\n",
       " 'nextFiscalYearEnd': 1719705600,\n",
       " 'mostRecentQuarter': 1696032000,\n",
       " 'earningsQuarterlyGrowth': 0.27,\n",
       " 'netIncomeToCommon': 77096001536,\n",
       " 'trailingEps': 10.3,\n",
       " 'forwardEps': 12.95,\n",
       " 'pegRatio': 2.14,\n",
       " 'lastSplitFactor': '2:1',\n",
       " 'lastSplitDate': 1045526400,\n",
       " 'enterpriseToRevenue': 12.442,\n",
       " 'enterpriseToEbitda': 25.028,\n",
       " '52WeekChange': 0.55598474,\n",
       " 'SandP52WeekChange': 0.22916555,\n",
       " 'lastDividendValue': 0.75,\n",
       " 'lastDividendDate': 1700006400,\n",
       " 'exchange': 'NMS',\n",
       " 'quoteType': 'EQUITY',\n",
       " 'symbol': 'MSFT',\n",
       " 'underlyingSymbol': 'MSFT',\n",
       " 'shortName': 'Microsoft Corporation',\n",
       " 'longName': 'Microsoft Corporation',\n",
       " 'firstTradeDateEpochUtc': 511108200,\n",
       " 'timeZoneFullName': 'America/New_York',\n",
       " 'timeZoneShortName': 'EST',\n",
       " 'uuid': 'b004b3ec-de24-385e-b2c1-923f10d3fb62',\n",
       " 'messageBoardId': 'finmb_21835',\n",
       " 'gmtOffSetMilliseconds': -18000000,\n",
       " 'currentPrice': 371.53,\n",
       " 'targetHighPrice': 475.0,\n",
       " 'targetLowPrice': 285.0,\n",
       " 'targetMeanPrice': 407.02,\n",
       " 'targetMedianPrice': 415.0,\n",
       " 'recommendationMean': 1.7,\n",
       " 'recommendationKey': 'buy',\n",
       " 'numberOfAnalystOpinions': 47,\n",
       " 'totalCash': 143945007104,\n",
       " 'totalCashPerShare': 19.368,\n",
       " 'ebitda': 108530999296,\n",
       " 'totalDebt': 105681002496,\n",
       " 'quickRatio': 1.531,\n",
       " 'currentRatio': 1.663,\n",
       " 'totalRevenue': 218310000640,\n",
       " 'debtToEquity': 47.881,\n",
       " 'revenuePerShare': 29.347,\n",
       " 'returnOnAssets': 0.1457,\n",
       " 'returnOnEquity': 0.39106998,\n",
       " 'freeCashflow': 50418876416,\n",
       " 'operatingCashflow': 94966996992,\n",
       " 'earningsGrowth': 0.272,\n",
       " 'revenueGrowth': 0.128,\n",
       " 'grossMargins': 0.69441,\n",
       " 'ebitdaMargins': 0.49714002,\n",
       " 'operatingMargins': 0.47587,\n",
       " 'financialCurrency': 'USD',\n",
       " 'trailingPegRatio': 2.2108}"
      ]
     },
     "execution_count": 4,
     "metadata": {},
     "output_type": "execute_result"
    }
   ],
   "source": [
    "data.info"
   ]
  },
  {
   "cell_type": "code",
   "execution_count": 5,
   "id": "ff9df99a-af37-41eb-a903-2f8f557582ac",
   "metadata": {
    "tags": []
   },
   "outputs": [
    {
     "name": "stdout",
     "output_type": "stream",
     "text": [
      "<class 'pandas.core.frame.DataFrame'>\n",
      "DatetimeIndex: 1259 entries, 2018-12-21 00:00:00-05:00 to 2023-12-21 00:00:00-05:00\n",
      "Data columns (total 7 columns):\n",
      " #   Column        Non-Null Count  Dtype  \n",
      "---  ------        --------------  -----  \n",
      " 0   Open          1259 non-null   float64\n",
      " 1   High          1259 non-null   float64\n",
      " 2   Low           1259 non-null   float64\n",
      " 3   Close         1259 non-null   float64\n",
      " 4   Volume        1259 non-null   int64  \n",
      " 5   Dividends     1259 non-null   float64\n",
      " 6   Stock Splits  1259 non-null   float64\n",
      "dtypes: float64(6), int64(1)\n",
      "memory usage: 78.7 KB\n"
     ]
    }
   ],
   "source": [
    "df.info()"
   ]
  },
  {
   "cell_type": "code",
   "execution_count": 6,
   "id": "28c5faad-c91e-45fe-a088-44851239e0ca",
   "metadata": {
    "tags": []
   },
   "outputs": [
    {
     "data": {
      "text/html": [
       "<div>\n",
       "<style scoped>\n",
       "    .dataframe tbody tr th:only-of-type {\n",
       "        vertical-align: middle;\n",
       "    }\n",
       "\n",
       "    .dataframe tbody tr th {\n",
       "        vertical-align: top;\n",
       "    }\n",
       "\n",
       "    .dataframe thead th {\n",
       "        text-align: right;\n",
       "    }\n",
       "</style>\n",
       "<table border=\"1\" class=\"dataframe\">\n",
       "  <thead>\n",
       "    <tr style=\"text-align: right;\">\n",
       "      <th></th>\n",
       "      <th>Open</th>\n",
       "      <th>High</th>\n",
       "      <th>Low</th>\n",
       "      <th>Close</th>\n",
       "      <th>Volume</th>\n",
       "      <th>Dividends</th>\n",
       "      <th>Stock Splits</th>\n",
       "    </tr>\n",
       "    <tr>\n",
       "      <th>Date</th>\n",
       "      <th></th>\n",
       "      <th></th>\n",
       "      <th></th>\n",
       "      <th></th>\n",
       "      <th></th>\n",
       "      <th></th>\n",
       "      <th></th>\n",
       "    </tr>\n",
       "  </thead>\n",
       "  <tbody>\n",
       "    <tr>\n",
       "      <th>2018-12-21 00:00:00-05:00</th>\n",
       "      <td>96.507555</td>\n",
       "      <td>97.808506</td>\n",
       "      <td>92.547737</td>\n",
       "      <td>93.278931</td>\n",
       "      <td>111242100</td>\n",
       "      <td>0.0</td>\n",
       "      <td>0.0</td>\n",
       "    </tr>\n",
       "    <tr>\n",
       "      <th>2018-12-24 00:00:00-05:00</th>\n",
       "      <td>92.756631</td>\n",
       "      <td>93.032015</td>\n",
       "      <td>89.243125</td>\n",
       "      <td>89.385559</td>\n",
       "      <td>43935200</td>\n",
       "      <td>0.0</td>\n",
       "      <td>0.0</td>\n",
       "    </tr>\n",
       "    <tr>\n",
       "      <th>2018-12-26 00:00:00-05:00</th>\n",
       "      <td>90.344671</td>\n",
       "      <td>95.614938</td>\n",
       "      <td>89.224146</td>\n",
       "      <td>95.491486</td>\n",
       "      <td>51634800</td>\n",
       "      <td>0.0</td>\n",
       "      <td>0.0</td>\n",
       "    </tr>\n",
       "    <tr>\n",
       "      <th>2018-12-27 00:00:00-05:00</th>\n",
       "      <td>94.295013</td>\n",
       "      <td>96.089752</td>\n",
       "      <td>91.541180</td>\n",
       "      <td>96.080254</td>\n",
       "      <td>49498500</td>\n",
       "      <td>0.0</td>\n",
       "      <td>0.0</td>\n",
       "    </tr>\n",
       "    <tr>\n",
       "      <th>2018-12-28 00:00:00-05:00</th>\n",
       "      <td>96.944375</td>\n",
       "      <td>97.248253</td>\n",
       "      <td>94.503911</td>\n",
       "      <td>95.330063</td>\n",
       "      <td>38196300</td>\n",
       "      <td>0.0</td>\n",
       "      <td>0.0</td>\n",
       "    </tr>\n",
       "  </tbody>\n",
       "</table>\n",
       "</div>"
      ],
      "text/plain": [
       "                                Open       High        Low      Close  \\\n",
       "Date                                                                    \n",
       "2018-12-21 00:00:00-05:00  96.507555  97.808506  92.547737  93.278931   \n",
       "2018-12-24 00:00:00-05:00  92.756631  93.032015  89.243125  89.385559   \n",
       "2018-12-26 00:00:00-05:00  90.344671  95.614938  89.224146  95.491486   \n",
       "2018-12-27 00:00:00-05:00  94.295013  96.089752  91.541180  96.080254   \n",
       "2018-12-28 00:00:00-05:00  96.944375  97.248253  94.503911  95.330063   \n",
       "\n",
       "                              Volume  Dividends  Stock Splits  \n",
       "Date                                                           \n",
       "2018-12-21 00:00:00-05:00  111242100        0.0           0.0  \n",
       "2018-12-24 00:00:00-05:00   43935200        0.0           0.0  \n",
       "2018-12-26 00:00:00-05:00   51634800        0.0           0.0  \n",
       "2018-12-27 00:00:00-05:00   49498500        0.0           0.0  \n",
       "2018-12-28 00:00:00-05:00   38196300        0.0           0.0  "
      ]
     },
     "execution_count": 6,
     "metadata": {},
     "output_type": "execute_result"
    }
   ],
   "source": [
    "df.head()"
   ]
  },
  {
   "cell_type": "code",
   "execution_count": 7,
   "id": "86d9d8d0-2ce7-4446-83fa-5559da726483",
   "metadata": {
    "tags": []
   },
   "outputs": [
    {
     "data": {
      "text/plain": [
       "Date\n",
       "2018-12-31 00:00:00-05:00     97.808506\n",
       "2019-12-31 00:00:00-05:00    153.748459\n",
       "2020-12-31 00:00:00-05:00    226.177710\n",
       "2021-12-31 00:00:00-05:00    343.379215\n",
       "2022-12-31 00:00:00-05:00    331.919192\n",
       "2023-12-31 00:00:00-05:00    384.299988\n",
       "Freq: A-DEC, Name: High, dtype: float64"
      ]
     },
     "execution_count": 7,
     "metadata": {},
     "output_type": "execute_result"
    }
   ],
   "source": [
    "## Getting maximum price of Share of the year\n",
    "df.resample(rule='A')['High'].max()"
   ]
  },
  {
   "cell_type": "code",
   "execution_count": 10,
   "id": "1e47d00a-82db-44b5-a56f-66449a970450",
   "metadata": {
    "tags": []
   },
   "outputs": [
    {
     "data": {
      "text/plain": [
       "<Axes: xlabel='Date'>"
      ]
     },
     "execution_count": 10,
     "metadata": {},
     "output_type": "execute_result"
    },
    {
     "data": {
      "image/png": "[encoded data removed]",
      "text/plain": [
       "<Figure size 640x480 with 1 Axes>"
      ]
     },
     "metadata": {},
     "output_type": "display_data"
    }
   ],
   "source": [
    "df.resample(rule='A')['High'].max().plot(kind='bar')"
   ]
  },
  {
   "cell_type": "code",
   "execution_count": 15,
   "id": "2acf0526-3c4f-414c-9702-4e8db119c24a",
   "metadata": {
    "tags": []
   },
   "outputs": [],
   "source": [
    "from datetime import datetime"
   ]
  },
  {
   "cell_type": "code",
   "execution_count": 21,
   "id": "adc4a4a3-cca2-45e3-9cbe-31b820ce2c68",
   "metadata": {},
   "outputs": [
    {
     "data": {
      "text/plain": [
       "Timestamp('2023-11-29 00:00:00-0500', tz='America/New_York')"
      ]
     },
     "execution_count": 21,
     "metadata": {},
     "output_type": "execute_result"
    }
   ],
   "source": [
    "## The Day on which the price of the stock was highest for last 5 years\n",
    "df['High'].idxmax()"
   ]
  },
  {
   "cell_type": "code",
   "execution_count": 22,
   "id": "6aedc016-6849-4967-b971-b4c05575790a",
   "metadata": {
    "tags": []
   },
   "outputs": [
    {
     "data": {
      "text/plain": [
       "384.29998779296875"
      ]
     },
     "execution_count": 22,
     "metadata": {},
     "output_type": "execute_result"
    }
   ],
   "source": [
    "df['High'].max()"
   ]
  },
  {
   "cell_type": "markdown",
   "id": "9db58637-7a4e-4b61-9f6b-d8359c8dfb3f",
   "metadata": {},
   "source": [
    "The Day on which the price of the stock was highest for last 5 years is 2023-11-29 and the price is 384.29998779296875"
   ]
  },
  {
   "cell_type": "code",
   "execution_count": 23,
   "id": "91fae00e-b867-49e0-8696-413a9d97f2b5",
   "metadata": {
    "tags": []
   },
   "outputs": [
    {
     "data": {
      "text/plain": [
       "Timestamp('2018-12-26 00:00:00-0500', tz='America/New_York')"
      ]
     },
     "execution_count": 23,
     "metadata": {},
     "output_type": "execute_result"
    }
   ],
   "source": [
    "## The Day on which the price of the stock was lowest\n",
    "df['Low'].idxmin()"
   ]
  },
  {
   "cell_type": "code",
   "execution_count": 24,
   "id": "c1defa87-f9b2-4308-b75b-74bf6ea8f0e2",
   "metadata": {
    "tags": []
   },
   "outputs": [
    {
     "data": {
      "text/plain": [
       "89.22414595246208"
      ]
     },
     "execution_count": 24,
     "metadata": {},
     "output_type": "execute_result"
    }
   ],
   "source": [
    "df['Low'].min()"
   ]
  },
  {
   "cell_type": "markdown",
   "id": "fea40f36-d2a4-48fa-8263-08287e34e483",
   "metadata": {},
   "source": [
    "The Day on which the price of the stock was lowest for last 5 years is 2018-12-26 and the price is 89.22414595246208"
   ]
  },
  {
   "cell_type": "markdown",
   "id": "44974f7b-3649-41ee-ad55-ebb97a1c6fff",
   "metadata": {},
   "source": [
    "### Lets check the News on these dates!\n",
    "\n",
    "#### When the price was highest: \n",
    "Artificial intelligence was back in the spotlight Monday, this time with some human drama attached to it.\n",
    "\n",
    "Microsoft shares closed at an all-time high after the software giant said Sam Altman—OpenAI's fired chief executive—would lead its new advanced AI research team.\n",
    "\n",
    "Altman was pushed out on Friday. Now more than 700 OpenAI employees have threatened to leave the company if the board doesn't resign and reinstate Altman. Catch up on the Journal's coverage here.\n",
    "\n",
    "#### When price was lowest:\n",
    "\n",
    "The fourth quarter hasn’t been the best quarter in history for the company. (That was the first quarter of 1987, when the stock price doubled.) In fact, this was one of its poorer quarters through the years. The stock was caught up in a wider market selloff, and it declined by 11 percent this quarter."
   ]
  },
  {
   "cell_type": "markdown",
   "id": "f3de3acf-80bf-4ef6-b275-1c08bc829b50",
   "metadata": {},
   "source": [
    "# The End"
   ]
  }
 ],
 "metadata": {
  "kernelspec": {
   "display_name": "Python 3 (ipykernel)",
   "language": "python",
   "name": "python3"
  },
  "language_info": {
   "codemirror_mode": {
    "name": "ipython",
    "version": 3
   },
   "file_extension": ".py",
   "mimetype": "text/x-python",
   "name": "python",
   "nbconvert_exporter": "python",
   "pygments_lexer": "ipython3",
   "version": "3.11.5"
  }
 },
 "nbformat": 4,
 "nbformat_minor": 5
}
